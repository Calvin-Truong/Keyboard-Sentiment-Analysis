{
 "cells": [
  {
   "cell_type": "markdown",
   "metadata": {},
   "source": [
    "You need GeckoDriver installed in order for the webdriver to work with Selenium"
   ]
  },
  {
   "cell_type": "code",
   "execution_count": 93,
   "metadata": {},
   "outputs": [],
   "source": [
    "from selenium import webdriver\n",
    "from selenium.webdriver.chrome.options import Options\n",
    "from selenium.webdriver.common.by import By\n",
    "from selenium.webdriver.common.keys import Keys\n",
    "from selenium.webdriver.support.ui import WebDriverWait\n",
    "from selenium.webdriver.support.expected_conditions import presence_of_element_located\n",
    "from bs4 import BeautifulSoup\n",
    "import pandas as pd\n",
    "import requests\n",
    "import time\n",
    "import sys"
   ]
  },
  {
   "cell_type": "code",
   "execution_count": 94,
   "metadata": {},
   "outputs": [],
   "source": [
    "firefox_driver_path = 'C:/Users/Jsgri/Desktop/School/Fall 2020/CIS 4680/Project 1'\n",
    "webdriver=webdriver.Firefox(firefox_driver_path)"
   ]
  },
  {
   "cell_type": "code",
   "execution_count": 95,
   "metadata": {},
   "outputs": [],
   "source": [
    "d = {'url': [], 'review': [], 'review_dates':[], 'category':[]}\n",
    "df = pd.DataFrame(data=d)"
   ]
  },
  {
   "cell_type": "code",
   "execution_count": 96,
   "metadata": {},
   "outputs": [],
   "source": [
    "URLs = pd.read_csv('urls.csv')\n",
    "urls = URLs['url']\n",
    "for url in urls:\n",
    "    category = URLs[URLs['url'] == url]['category'].to_string()\n",
    "    webdriver.get(url)\n",
    "    webdriver.execute_script(\"window.scrollTo(0, 7000);\")\n",
    "    results = webdriver.find_elements_by_id(\"cm-cr-dp-review-list\")\n",
    "    html = webdriver.execute_script(\"return document.documentElement.outerHTML\")\n",
    "\n",
    "    soup = BeautifulSoup(html,'html.parser')\n",
    "    reviews_words = soup.find_all(\"div\", class_=\"a-expander-content reviewText review-text-content a-expander-partial-collapse-content\")\n",
    "    review_dates = soup.find_all(\"span\", class_ = \"a-size-base a-color-secondary review-date\")\n",
    "    for i in range(len(reviews_words)):\n",
    "        #print(reviews_words[i])\n",
    "        d = {'url': [url], 'review': [reviews_words[i]], 'review_dates':[review_dates[i]], 'category':[category]}\n",
    "        d = pd.DataFrame(data=d)\n",
    "        df = df.append(d)"
   ]
  },
  {
   "cell_type": "code",
   "execution_count": 99,
   "metadata": {},
   "outputs": [
    {
     "data": {
      "text/html": [
       "<div>\n",
       "<style scoped>\n",
       "    .dataframe tbody tr th:only-of-type {\n",
       "        vertical-align: middle;\n",
       "    }\n",
       "\n",
       "    .dataframe tbody tr th {\n",
       "        vertical-align: top;\n",
       "    }\n",
       "\n",
       "    .dataframe thead th {\n",
       "        text-align: right;\n",
       "    }\n",
       "</style>\n",
       "<table border=\"1\" class=\"dataframe\">\n",
       "  <thead>\n",
       "    <tr style=\"text-align: right;\">\n",
       "      <th></th>\n",
       "      <th>url</th>\n",
       "      <th>review</th>\n",
       "      <th>review_dates</th>\n",
       "      <th>category</th>\n",
       "    </tr>\n",
       "  </thead>\n",
       "  <tbody>\n",
       "    <tr>\n",
       "      <th>0</th>\n",
       "      <td>https://www.amazon.com/Redragon-K552-Mechanica...</td>\n",
       "      <td>[[], [], [], \\n, [\\n   I didn't buy this keybo...</td>\n",
       "      <td>[Reviewed in the United States on July 20, 2016]</td>\n",
       "      <td>0    mechanical</td>\n",
       "    </tr>\n",
       "    <tr>\n",
       "      <th>0</th>\n",
       "      <td>https://www.amazon.com/Redragon-K552-Mechanica...</td>\n",
       "      <td>[\\n, [\\n  So I was hesitant to purchase this a...</td>\n",
       "      <td>[Reviewed in the United States on March 22, 2018]</td>\n",
       "      <td>0    mechanical</td>\n",
       "    </tr>\n",
       "    <tr>\n",
       "      <th>0</th>\n",
       "      <td>https://www.amazon.com/Redragon-K552-Mechanica...</td>\n",
       "      <td>[\\n, [\\n  Lets keep this review short and simp...</td>\n",
       "      <td>[Reviewed in the United States on February 18,...</td>\n",
       "      <td>0    mechanical</td>\n",
       "    </tr>\n",
       "    <tr>\n",
       "      <th>0</th>\n",
       "      <td>https://www.amazon.com/Redragon-K552-Mechanica...</td>\n",
       "      <td>[\\n, [\\n  The only downside would be this is n...</td>\n",
       "      <td>[Reviewed in Canada on February 11, 2018]</td>\n",
       "      <td>0    mechanical</td>\n",
       "    </tr>\n",
       "    <tr>\n",
       "      <th>0</th>\n",
       "      <td>https://www.amazon.com/Redragon-K552-Mechanica...</td>\n",
       "      <td>[\\n, [\\n  With great reviews on YouTube and ev...</td>\n",
       "      <td>[Reviewed in India on July 1, 2018]</td>\n",
       "      <td>0    mechanical</td>\n",
       "    </tr>\n",
       "    <tr>\n",
       "      <th>...</th>\n",
       "      <td>...</td>\n",
       "      <td>...</td>\n",
       "      <td>...</td>\n",
       "      <td>...</td>\n",
       "    </tr>\n",
       "    <tr>\n",
       "      <th>0</th>\n",
       "      <td>https://www.amazon.com/Mafiti-Backlit-Keyboard...</td>\n",
       "      <td>[\\n, [\\n  This keyboard is amazing. Lights are...</td>\n",
       "      <td>[Reviewed in the United States on January 11, ...</td>\n",
       "      <td>27    membrane</td>\n",
       "    </tr>\n",
       "    <tr>\n",
       "      <th>0</th>\n",
       "      <td>https://www.amazon.com/Mafiti-Backlit-Keyboard...</td>\n",
       "      <td>[\\n, [\\n  Excellent value. Adjustable brightne...</td>\n",
       "      <td>[Reviewed in the United States on June 15, 2018]</td>\n",
       "      <td>27    membrane</td>\n",
       "    </tr>\n",
       "    <tr>\n",
       "      <th>0</th>\n",
       "      <td>https://www.amazon.com/Mafiti-Backlit-Keyboard...</td>\n",
       "      <td>[\\n, [\\n  This was for my 15 yr old son. He lo...</td>\n",
       "      <td>[Reviewed in the United States on December 26,...</td>\n",
       "      <td>27    membrane</td>\n",
       "    </tr>\n",
       "    <tr>\n",
       "      <th>0</th>\n",
       "      <td>https://www.amazon.com/Mafiti-Backlit-Keyboard...</td>\n",
       "      <td>[\\n, [\\n  You absolutely can't beat this keybo...</td>\n",
       "      <td>[Reviewed in the United States on March 2, 2018]</td>\n",
       "      <td>27    membrane</td>\n",
       "    </tr>\n",
       "    <tr>\n",
       "      <th>0</th>\n",
       "      <td>https://www.amazon.com/Mafiti-Backlit-Keyboard...</td>\n",
       "      <td>[\\n, [\\n  Really nice keyboard, especially whe...</td>\n",
       "      <td>[Reviewed in the United States on January 5, 2...</td>\n",
       "      <td>27    membrane</td>\n",
       "    </tr>\n",
       "  </tbody>\n",
       "</table>\n",
       "<p>274 rows × 4 columns</p>\n",
       "</div>"
      ],
      "text/plain": [
       "                                                  url  \\\n",
       "0   https://www.amazon.com/Redragon-K552-Mechanica...   \n",
       "0   https://www.amazon.com/Redragon-K552-Mechanica...   \n",
       "0   https://www.amazon.com/Redragon-K552-Mechanica...   \n",
       "0   https://www.amazon.com/Redragon-K552-Mechanica...   \n",
       "0   https://www.amazon.com/Redragon-K552-Mechanica...   \n",
       "..                                                ...   \n",
       "0   https://www.amazon.com/Mafiti-Backlit-Keyboard...   \n",
       "0   https://www.amazon.com/Mafiti-Backlit-Keyboard...   \n",
       "0   https://www.amazon.com/Mafiti-Backlit-Keyboard...   \n",
       "0   https://www.amazon.com/Mafiti-Backlit-Keyboard...   \n",
       "0   https://www.amazon.com/Mafiti-Backlit-Keyboard...   \n",
       "\n",
       "                                               review  \\\n",
       "0   [[], [], [], \\n, [\\n   I didn't buy this keybo...   \n",
       "0   [\\n, [\\n  So I was hesitant to purchase this a...   \n",
       "0   [\\n, [\\n  Lets keep this review short and simp...   \n",
       "0   [\\n, [\\n  The only downside would be this is n...   \n",
       "0   [\\n, [\\n  With great reviews on YouTube and ev...   \n",
       "..                                                ...   \n",
       "0   [\\n, [\\n  This keyboard is amazing. Lights are...   \n",
       "0   [\\n, [\\n  Excellent value. Adjustable brightne...   \n",
       "0   [\\n, [\\n  This was for my 15 yr old son. He lo...   \n",
       "0   [\\n, [\\n  You absolutely can't beat this keybo...   \n",
       "0   [\\n, [\\n  Really nice keyboard, especially whe...   \n",
       "\n",
       "                                         review_dates         category  \n",
       "0    [Reviewed in the United States on July 20, 2016]  0    mechanical  \n",
       "0   [Reviewed in the United States on March 22, 2018]  0    mechanical  \n",
       "0   [Reviewed in the United States on February 18,...  0    mechanical  \n",
       "0           [Reviewed in Canada on February 11, 2018]  0    mechanical  \n",
       "0                 [Reviewed in India on July 1, 2018]  0    mechanical  \n",
       "..                                                ...              ...  \n",
       "0   [Reviewed in the United States on January 11, ...   27    membrane  \n",
       "0    [Reviewed in the United States on June 15, 2018]   27    membrane  \n",
       "0   [Reviewed in the United States on December 26,...   27    membrane  \n",
       "0    [Reviewed in the United States on March 2, 2018]   27    membrane  \n",
       "0   [Reviewed in the United States on January 5, 2...   27    membrane  \n",
       "\n",
       "[274 rows x 4 columns]"
      ]
     },
     "execution_count": 99,
     "metadata": {},
     "output_type": "execute_result"
    }
   ],
   "source": [
    "df"
   ]
  },
  {
   "cell_type": "code",
   "execution_count": 98,
   "metadata": {},
   "outputs": [],
   "source": [
    "df.to_csv('keyboard_reviews.csv')"
   ]
  },
  {
   "cell_type": "code",
   "execution_count": null,
   "metadata": {},
   "outputs": [],
   "source": []
  },
  {
   "cell_type": "code",
   "execution_count": null,
   "metadata": {},
   "outputs": [],
   "source": []
  },
  {
   "cell_type": "code",
   "execution_count": null,
   "metadata": {
    "scrolled": true
   },
   "outputs": [],
   "source": []
  },
  {
   "cell_type": "code",
   "execution_count": null,
   "metadata": {},
   "outputs": [],
   "source": []
  },
  {
   "cell_type": "code",
   "execution_count": null,
   "metadata": {},
   "outputs": [],
   "source": []
  },
  {
   "cell_type": "code",
   "execution_count": null,
   "metadata": {},
   "outputs": [],
   "source": []
  },
  {
   "cell_type": "code",
   "execution_count": null,
   "metadata": {},
   "outputs": [],
   "source": []
  },
  {
   "cell_type": "code",
   "execution_count": null,
   "metadata": {},
   "outputs": [],
   "source": []
  },
  {
   "cell_type": "code",
   "execution_count": null,
   "metadata": {},
   "outputs": [],
   "source": []
  },
  {
   "cell_type": "code",
   "execution_count": null,
   "metadata": {},
   "outputs": [],
   "source": []
  },
  {
   "cell_type": "code",
   "execution_count": null,
   "metadata": {},
   "outputs": [],
   "source": []
  },
  {
   "cell_type": "raw",
   "metadata": {},
   "source": []
  },
  {
   "cell_type": "code",
   "execution_count": null,
   "metadata": {},
   "outputs": [],
   "source": []
  },
  {
   "cell_type": "code",
   "execution_count": null,
   "metadata": {},
   "outputs": [],
   "source": []
  }
 ],
 "metadata": {
  "kernelspec": {
   "display_name": "Python 3",
   "language": "python",
   "name": "python3"
  },
  "language_info": {
   "codemirror_mode": {
    "name": "ipython",
    "version": 3
   },
   "file_extension": ".py",
   "mimetype": "text/x-python",
   "name": "python",
   "nbconvert_exporter": "python",
   "pygments_lexer": "ipython3",
   "version": "3.7.6"
  }
 },
 "nbformat": 4,
 "nbformat_minor": 4
}
